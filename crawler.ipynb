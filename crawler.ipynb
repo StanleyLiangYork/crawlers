{
  "nbformat": 4,
  "nbformat_minor": 0,
  "metadata": {
    "colab": {
      "name": "crawler.ipynb",
      "provenance": [],
      "authorship_tag": "ABX9TyNG8RwE6pdcykF3xC7uR1fr",
      "include_colab_link": true
    },
    "kernelspec": {
      "name": "python3",
      "display_name": "Python 3"
    }
  },
  "cells": [
    {
      "cell_type": "markdown",
      "metadata": {
        "id": "view-in-github",
        "colab_type": "text"
      },
      "source": [
        "<a href=\"https://colab.research.google.com/github/StanleyLiangYork/crawlers/blob/master/crawler.ipynb\" target=\"_parent\"><img src=\"https://colab.research.google.com/assets/colab-badge.svg\" alt=\"Open In Colab\"/></a>"
      ]
    },
    {
      "cell_type": "markdown",
      "metadata": {
        "id": "7LJiFyLhoUhv",
        "colab_type": "text"
      },
      "source": [
        "## demonstrate how to crawl a single webpage to extract useful information and statistics"
      ]
    },
    {
      "cell_type": "code",
      "metadata": {
        "id": "_tvCzrXOtEso",
        "colab_type": "code",
        "colab": {}
      },
      "source": [
        "import requests"
      ],
      "execution_count": null,
      "outputs": []
    },
    {
      "cell_type": "code",
      "metadata": {
        "id": "SCVKIL9EtOzY",
        "colab_type": "code",
        "colab": {}
      },
      "source": [
        "response = requests.get('https://www.herbshealth.ca/about/')"
      ],
      "execution_count": null,
      "outputs": []
    },
    {
      "cell_type": "code",
      "metadata": {
        "id": "ou1rKAi_tuDg",
        "colab_type": "code",
        "colab": {
          "base_uri": "https://localhost:8080/",
          "height": 35
        },
        "outputId": "96422fc6-daf9-4d27-dffb-99b36fa18cc7"
      },
      "source": [
        "response.status_code"
      ],
      "execution_count": null,
      "outputs": [
        {
          "output_type": "execute_result",
          "data": {
            "text/plain": [
              "200"
            ]
          },
          "metadata": {
            "tags": []
          },
          "execution_count": 11
        }
      ]
    },
    {
      "cell_type": "code",
      "metadata": {
        "id": "NNhYRlhhtyzN",
        "colab_type": "code",
        "colab": {
          "base_uri": "https://localhost:8080/",
          "height": 124
        },
        "outputId": "8c3a29a5-7073-421d-cd54-46bf321722b5"
      },
      "source": [
        "response.text"
      ],
      "execution_count": null,
      "outputs": [
        {
          "output_type": "execute_result",
          "data": {
            "application/vnd.google.colaboratory.intrinsic+json": {
              "type": "string"
            },
            "text/plain": [
              "'<!DOCTYPE html>\\n<html lang=\"en-US\">\\n<head>\\n\\t<meta charset=\"UTF-8\">\\n\\t<link rel=\"profile\" href=\"https://gmpg.org/xfn/11\">\\n\\t<title>梁博士简介 | Acupuncturist &amp; Herbalist in GTA</title>\\n\\n<!-- All In One SEO Pack 3.6.2[121,178] -->\\n<script type=\"application/ld+json\" class=\"aioseop-schema\">{\"@context\":\"https://schema.org\",\"@graph\":[{\"@type\":\"Organization\",\"@id\":\"https://www.herbshealth.ca/#organization\",\"url\":\"https://www.herbshealth.ca/\",\"name\":\"Acupuncturist &amp; Herbalist in GTA\",\"sameAs\":[],\"logo\":{\"@type\":\"ImageObject\",\"@id\":\"https://www.herbshealth.ca/#logo\",\"url\":\"https://www.herbshealth.ca/wp-content/uploads/2020/07/cropped-tcm_logo-2.jpg\",\"caption\":\"\"},\"image\":{\"@id\":\"https://www.herbshealth.ca/#logo\"}},{\"@type\":\"WebSite\",\"@id\":\"https://www.herbshealth.ca/#website\",\"url\":\"https://www.herbshealth.ca/\",\"name\":\"Acupuncturist &amp; Herbalist in GTA\",\"publisher\":{\"@id\":\"https://www.herbshealth.ca/#organization\"},\"potentialAction\":{\"@type\":\"SearchAction\",\"target\":\"https://www.herbshealth.ca/?s={search_term_string}\",\"query-input\":\"required name=search_term_string\"}},{\"@type\":\"WebPage\",\"@id\":\"https://www.herbshealth.ca/about/#webpage\",\"url\":\"https://www.herbshealth.ca/about/\",\"inLanguage\":\"en-US\",\"name\":\"梁博士简介\",\"isPartOf\":{\"@id\":\"https://www.herbshealth.ca/#website\"},\"breadcrumb\":{\"@id\":\"https://www.herbshealth.ca/about/#breadcrumblist\"},\"datePublished\":\"2020-06-19T10:19:49+00:00\",\"dateModified\":\"2020-07-06T17:11:09+00:00\"},{\"@type\":\"BreadcrumbList\",\"@id\":\"https://www.herbshealth.ca/about/#breadcrumblist\",\"itemListElement\":[{\"@type\":\"ListItem\",\"position\":1,\"item\":{\"@type\":\"WebPage\",\"@id\":\"https://www.herbshealth.ca/\",\"url\":\"https://www.herbshealth.ca/\",\"name\":\"Acupuncturist &amp; Herbalist in GTA\"}},{\"@type\":\"ListItem\",\"position\":2,\"item\":{\"@type\":\"WebPage\",\"@id\":\"https://www.herbshealth.ca/about/\",\"url\":\"https://www.herbshealth.ca/about/\",\"name\":\"梁博士简介\"}}]}]}</script>\\n<link rel=\"canonical\" href=\"https://www.herbshealth.ca/about/\"/>\\n<!-- All In One SEO Pack -->\\n<link rel=\\'dns-prefetch\\' href=\\'//fonts.googleapis.com\\'/>\\n<link rel=\\'dns-prefetch\\' href=\\'//s.w.org\\'/>\\n<link href=\\'https://fonts.gstatic.com\\' crossorigin rel=\\'preconnect\\'/>\\n<link rel=\"alternate\" type=\"application/rss+xml\" title=\"Acupuncturist &amp; Herbalist in GTA &raquo; Feed\" href=\"https://www.herbshealth.ca/feed/\"/>\\n<link rel=\"alternate\" type=\"application/rss+xml\" title=\"Acupuncturist &amp; Herbalist in GTA &raquo; Comments Feed\" href=\"https://www.herbshealth.ca/comments/feed/\"/>\\n<link rel=\"alternate\" type=\"application/rss+xml\" title=\"Acupuncturist &amp; Herbalist in GTA &raquo; 梁博士简介 Comments Feed\" href=\"https://www.herbshealth.ca/about/feed/\"/>\\n\\t\\t<script type=\"text/javascript\">window._wpemojiSettings={\"baseUrl\":\"https:\\\\/\\\\/s.w.org\\\\/images\\\\/core\\\\/emoji\\\\/12.0.0-1\\\\/72x72\\\\/\",\"ext\":\".png\",\"svgUrl\":\"https:\\\\/\\\\/s.w.org\\\\/images\\\\/core\\\\/emoji\\\\/12.0.0-1\\\\/svg\\\\/\",\"svgExt\":\".svg\",\"source\":{\"concatemoji\":\"https:\\\\/\\\\/www.herbshealth.ca\\\\/wp-includes\\\\/js\\\\/wp-emoji-release.min.js?ver=5.4.2\"}};!function(e,a,t){var r,n,o,i,p=a.createElement(\"canvas\"),s=p.getContext&&p.getContext(\"2d\");function c(e,t){var a=String.fromCharCode;s.clearRect(0,0,p.width,p.height),s.fillText(a.apply(this,e),0,0);var r=p.toDataURL();return s.clearRect(0,0,p.width,p.height),s.fillText(a.apply(this,t),0,0),r===p.toDataURL()}function l(e){if(!s||!s.fillText)return!1;switch(s.textBaseline=\"top\",s.font=\"600 32px Arial\",e){case\"flag\":return!c([127987,65039,8205,9895,65039],[127987,65039,8203,9895,65039])&&(!c([55356,56826,55356,56819],[55356,56826,8203,55356,56819])&&!c([55356,57332,56128,56423,56128,56418,56128,56421,56128,56430,56128,56423,56128,56447],[55356,57332,8203,56128,56423,8203,56128,56418,8203,56128,56421,8203,56128,56430,8203,56128,56423,8203,56128,56447]));case\"emoji\":return!c([55357,56424,55356,57342,8205,55358,56605,8205,55357,56424,55356,57340],[55357,56424,55356,57342,8203,55358,56605,8203,55357,56424,55356,57340])}return!1}function d(e){var t=a.createElement(\"script\");t.src=e,t.defer=t.type=\"text/javascript\",a.getElementsByTagName(\"head\")[0].appendChild(t)}for(i=Array(\"flag\",\"emoji\"),t.supports={everything:!0,everythingExceptFlag:!0},o=0;o<i.length;o++)t.supports[i[o]]=l(i[o]),t.supports.everything=t.supports.everything&&t.supports[i[o]],\"flag\"!==i[o]&&(t.supports.everythingExceptFlag=t.supports.everythingExceptFlag&&t.supports[i[o]]);t.supports.everythingExceptFlag=t.supports.everythingExceptFlag&&!t.supports.flag,t.DOMReady=!1,t.readyCallback=function(){t.DOMReady=!0},t.supports.everything||(n=function(){t.readyCallback()},a.addEventListener?(a.addEventListener(\"DOMContentLoaded\",n,!1),e.addEventListener(\"load\",n,!1)):(e.attachEvent(\"onload\",n),a.attachEvent(\"onreadystatechange\",function(){\"complete\"===a.readyState&&t.readyCallback()})),(r=t.source||{}).concatemoji?d(r.concatemoji):r.wpemoji&&r.twemoji&&(d(r.twemoji),d(r.wpemoji)))}(window,document,window._wpemojiSettings);</script>\\n\\t\\t<style type=\"text/css\">img.wp-smiley,img.emoji{display:inline!important;border:none!important;box-shadow:none!important;height:1em!important;width:1em!important;margin:0 .07em!important;vertical-align:-.1em!important;background:none!important;padding:0!important}</style>\\n\\t<link crossorigin=\"anonymous\" rel=\\'stylesheet\\' id=\\'generate-fonts-css\\' href=\\'//fonts.googleapis.com/css?family=Open+Sans:300,300italic,regular,italic\\' type=\\'text/css\\' media=\\'all\\'/>\\n<link rel=\\'stylesheet\\' id=\\'wp-block-library-css\\' href=\\'https://c0.wp.com/c/5.4.2/wp-includes/css/dist/block-library/style.min.css\\' type=\\'text/css\\' media=\\'all\\'/>\\n<style id=\\'wp-block-library-inline-css\\' type=\\'text/css\\'>.has-text-align-justify{text-align:justify}</style>\\n<link rel=\\'stylesheet\\' id=\\'generate-style-grid-css\\' href=\\'https://www.herbshealth.ca/wp-content/themes/generatepress/css/unsemantic-grid.min.css?ver=2.4.2\\' type=\\'text/css\\' media=\\'all\\'/>\\n<link rel=\\'stylesheet\\' id=\\'generate-style-css\\' href=\\'https://www.herbshealth.ca/wp-content/themes/generatepress/style.min.css?ver=2.4.2\\' type=\\'text/css\\' media=\\'all\\'/>\\n<style id=\\'generate-style-inline-css\\' type=\\'text/css\\'>@font-face{font-family:\"GeneratePress\";src:url(https://www.herbshealth.ca/wp-content/themes/generatepress/fonts/generatepress.eot);src:url(https://www.herbshealth.ca/wp-content/themes/generatepress/fonts/generatepress.eot#iefix) format(\"embedded-opentype\") , url(https://www.herbshealth.ca/wp-content/themes/generatepress/fonts/generatepress.woff2) format(\"woff2\") , url(https://www.herbshealth.ca/wp-content/themes/generatepress/fonts/generatepress.woff) format(\"woff\") , url(https://www.herbshealth.ca/wp-content/themes/generatepress/fonts/generatepress.ttf) format(\"truetype\") , url(https://www.herbshealth.ca/wp-content/themes/generatepress/fonts/generatepress.svg#GeneratePress) format(\"svg\");font-weight:normal;font-style:normal}body{background-color:#efefef;color:#3a3a3a}a,a:visited{color:#074d93}a:hover,a:focus,a:active{color:#000}body .grid-container{max-width:1200px}.wp-block-group__inner-container{max-width:1200px;margin-left:auto;margin-right:auto}.site-header .header-image{width:800px}body,button,input,select,textarea{font-family:\"Open Sans\",sans-serif}.entry-content > [class*=\"wp-block-\"]:not(:last-child){margin-bottom:1.5em}.main-navigation .main-nav ul ul li a{font-size:14px}@media (max-width:768px){.main-title{font-size:30px}h1{font-size:30px}h2{font-size:25px}}.top-bar{background-color:#636363;color:#fff}.top-bar a,.top-bar a:visited{color:#fff}.top-bar a:hover{color:#303030}.site-header{background-color:#fff;color:#3a3a3a}.site-header a,.site-header a:visited{color:#3a3a3a}.main-title a,.main-title a:hover,.main-title a:visited{color:#222}.site-description{color:#757575}.main-navigation,.main-navigation ul ul{background-color:#222}.main-navigation .main-nav ul li a,.menu-toggle{color:#fff}.main-navigation .main-nav ul li:hover>a,.main-navigation .main-nav ul li:focus>a,.main-navigation .main-nav ul li.sfHover>a{color:#fff;background-color:#3f3f3f}button.menu-toggle:hover,button.menu-toggle:focus,.main-navigation .mobile-bar-items a,.main-navigation .mobile-bar-items a:hover,.main-navigation .mobile-bar-items a:focus{color:#fff}.main-navigation .main-nav ul li[class*=\"current-menu-\"]>a{color:#fff;background-color:#3f3f3f}.main-navigation .main-nav ul li[class*=\"current-menu-\"]>a:hover,.main-navigation .main-nav ul li[class*=\"current-menu-\"].sfHover>a{color:#fff;background-color:#3f3f3f}.navigation-search input[type=\"search\"],.navigation-search input[type=\"search\"]:active,.navigation-search input[type=\"search\"]:focus,.main-navigation .main-nav ul li.search-item.active>a{color:#fff;background-color:#3f3f3f}.main-navigation ul ul{background-color:#3f3f3f}.main-navigation .main-nav ul ul li a{color:#fff}.main-navigation .main-nav ul ul li:hover>a,.main-navigation .main-nav ul ul li:focus>a,.main-navigation .main-nav ul ul li.sfHover>a{color:#fff;background-color:#4f4f4f}.main-navigation .main-nav ul ul li[class*=\"current-menu-\"]>a{color:#fff;background-color:#4f4f4f}.main-navigation .main-nav ul ul li[class*=\"current-menu-\"]>a:hover,.main-navigation .main-nav ul ul li[class*=\"current-menu-\"].sfHover>a{color:#fff;background-color:#4f4f4f}.separate-containers .inside-article,.separate-containers .comments-area,.separate-containers .page-header,.one-container .container,.separate-containers .paging-navigation,.inside-page-header{background-color:#fff}.entry-meta{color:#595959}.entry-meta a,.entry-meta a:visited{color:#595959}.entry-meta a:hover{color:#1e73be}.sidebar .widget{background-color:#fff}.sidebar .widget .widget-title{color:#000}.footer-widgets{background-color:#fff}.footer-widgets .widget-title{color:#000}.site-info{color:#fff;background-color:#222}.site-info a,.site-info a:visited{color:#fff}.site-info a:hover{color:#606060}.footer-bar .widget_nav_menu .current-menu-item a{color:#606060}input[type=\"text\"],input[type=\"email\"],input[type=\"url\"],input[type=\"password\"],input[type=\"search\"],input[type=\"tel\"],input[type=\"number\"],textarea,select{color:#666;background-color:#fafafa;border-color:#ccc}input[type=\"text\"]:focus,input[type=\"email\"]:focus,input[type=\"url\"]:focus,input[type=\"password\"]:focus,input[type=\"search\"]:focus,input[type=\"tel\"]:focus,input[type=\"number\"]:focus,textarea:focus,select:focus{color:#666;background-color:#fff;border-color:#bfbfbf}button,html input[type=\"button\"],input[type=\"reset\"],input[type=\"submit\"],a.button,a.button:visited,a.wp-block-button__link:not(.has-background){color:#fff;background-color:#666}button:hover,html input[type=\"button\"]:hover,input[type=\"reset\"]:hover,input[type=\"submit\"]:hover,a.button:hover,button:focus,html input[type=\"button\"]:focus,input[type=\"reset\"]:focus,input[type=\"submit\"]:focus,a.button:focus,a.wp-block-button__link:not(.has-background):active,a.wp-block-button__link:not(.has-background):focus,a.wp-block-button__link:not(.has-background):hover{color:#fff;background-color:#3f3f3f}.generate-back-to-top,.generate-back-to-top:visited{background-color:rgba(0,0,0,.4);color:#fff}.generate-back-to-top:hover,.generate-back-to-top:focus{background-color:rgba(0,0,0,.6);color:#fff}.entry-content .alignwide, body:not(.no-sidebar) .entry-content .alignfull{margin-left:-40px;width:calc(100% + 80px);max-width:calc(100% + 80px)}.rtl .menu-item-has-children .dropdown-menu-toggle{padding-left:20px}.rtl .main-navigation .main-nav ul li.menu-item-has-children>a{padding-right:20px}@media (max-width:768px){.separate-containers .inside-article,.separate-containers .comments-area,.separate-containers .page-header,.separate-containers .paging-navigation,.one-container .site-content,.inside-page-header,.wp-block-group__inner-container{padding:30px}.entry-content .alignwide, body:not(.no-sidebar) .entry-content .alignfull{margin-left:-30px;width:calc(100% + 60px);max-width:calc(100% + 60px)}}.one-container .sidebar .widget{padding:0}@media (max-width:768px){.main-navigation .menu-toggle,.main-navigation .mobile-bar-items,.sidebar-nav-mobile:not(#sticky-placeholder){display:block}.main-navigation ul,.gen-sidebar-nav{display:none}[class*=\"nav-float-\"] .site-header .inside-header>*{float:none;clear:both}}</style>\\n<link rel=\\'stylesheet\\' id=\\'generate-mobile-style-css\\' href=\\'https://www.herbshealth.ca/wp-content/themes/generatepress/css/mobile.min.css?ver=2.4.2\\' type=\\'text/css\\' media=\\'all\\'/>\\n<link rel=\\'stylesheet\\' id=\\'font-awesome-css\\' href=\\'https://www.herbshealth.ca/wp-content/themes/generatepress/css/font-awesome.min.css?ver=4.7\\' type=\\'text/css\\' media=\\'all\\'/>\\n<link rel=\\'stylesheet\\' id=\\'jetpack_css-css\\' href=\\'https://c0.wp.com/p/jetpack/8.6.1/css/jetpack.css\\' type=\\'text/css\\' media=\\'all\\'/>\\n<link rel=\\'https://api.w.org/\\' href=\\'https://www.herbshealth.ca/wp-json/\\'/>\\n<link rel=\"EditURI\" type=\"application/rsd+xml\" title=\"RSD\" href=\"https://www.herbshealth.ca/xmlrpc.php?rsd\"/>\\n<link rel=\"wlwmanifest\" type=\"application/wlwmanifest+xml\" href=\"https://www.herbshealth.ca/wp-includes/wlwmanifest.xml\"/> \\n<meta name=\"generator\" content=\"WordPress 5.4.2\"/>\\n<link rel=\\'shortlink\\' href=\\'https://www.herbshealth.ca/?p=2\\'/>\\n<link rel=\"alternate\" type=\"application/json+oembed\" href=\"https://www.herbshealth.ca/wp-json/oembed/1.0/embed?url=https%3A%2F%2Fwww.herbshealth.ca%2Fabout%2F\"/>\\n<link rel=\"alternate\" type=\"text/xml+oembed\" href=\"https://www.herbshealth.ca/wp-json/oembed/1.0/embed?url=https%3A%2F%2Fwww.herbshealth.ca%2Fabout%2F&#038;format=xml\"/>\\n\\r\\n<link rel=\\'dns-prefetch\\' href=\\'//c0.wp.com\\'/>\\r\\n<style type=\\'text/css\\'>img#wpstats{display:none}</style><link rel=\"pingback\" href=\"https://www.herbshealth.ca/xmlrpc.php\">\\n<meta name=\"viewport\" content=\"width=device-width, initial-scale=1\"><!-- There is no amphtml version available for this URL. --><link rel=\"icon\" href=\"https://www.herbshealth.ca/wp-content/uploads/2020/07/cropped-logo-e1593995088790-32x32.png\" sizes=\"32x32\"/>\\n<link rel=\"icon\" href=\"https://www.herbshealth.ca/wp-content/uploads/2020/07/cropped-logo-e1593995088790-192x192.png\" sizes=\"192x192\"/>\\n<link rel=\"apple-touch-icon\" href=\"https://www.herbshealth.ca/wp-content/uploads/2020/07/cropped-logo-e1593995088790-180x180.png\"/>\\n<meta name=\"msapplication-TileImage\" content=\"https://www.herbshealth.ca/wp-content/uploads/2020/07/cropped-logo-e1593995088790-270x270.png\"/>\\n</head>\\n\\n<body class=\"page-template-default page page-id-2 wp-custom-logo wp-embed-responsive right-sidebar nav-below-header fluid-header separate-containers active-footer-widgets-3 nav-aligned-left header-aligned-center dropdown-hover\" itemtype=\"https://schema.org/WebPage\" itemscope>\\n\\t<a class=\"screen-reader-text skip-link\" href=\"#content\" title=\"Skip to content\">Skip to content</a>\\t\\t<header id=\"masthead\" class=\"site-header\" itemtype=\"https://schema.org/WPHeader\" itemscope>\\n\\t\\t\\t<div class=\"inside-header grid-container grid-parent\">\\n\\t\\t\\t\\t<div class=\"site-branding\">\\n\\t\\t\\t\\t\\t<p class=\"main-title\" itemprop=\"headline\">\\n\\t\\t\\t\\t<a href=\"https://www.herbshealth.ca/\" rel=\"home\">\\n\\t\\t\\t\\t\\tAcupuncturist &amp; Herbalist in GTA\\n\\t\\t\\t\\t</a>\\n\\t\\t\\t</p>\\n\\t\\t\\t\\t\\t<p class=\"site-description\" itemprop=\"description\">\\n\\t\\t\\t\\tKnowledge on TCM and acupuncture\\n\\t\\t\\t</p>\\n\\t\\t\\t\\t</div><div class=\"site-logo\">\\n\\t\\t\\t\\t<a href=\"https://www.herbshealth.ca/\" title=\"Acupuncturist &amp; Herbalist in GTA\" rel=\"home\">\\n\\t\\t\\t\\t\\t<img class=\"header-image\" alt=\"Acupuncturist &amp; Herbalist in GTA\" src=\"https://www.herbshealth.ca/wp-content/uploads/2020/07/cropped-tcm_logo-2.jpg\" title=\"Acupuncturist &amp; Herbalist in GTA\"/>\\n\\t\\t\\t\\t</a>\\n\\t\\t\\t</div>\\t\\t\\t</div><!-- .inside-header -->\\n\\t\\t</header><!-- #masthead -->\\n\\t\\t\\t\\t<nav id=\"site-navigation\" class=\"main-navigation\" itemtype=\"https://schema.org/SiteNavigationElement\" itemscope>\\n\\t\\t\\t<div class=\"inside-navigation grid-container grid-parent\">\\n\\t\\t\\t\\t\\t\\t\\t\\t<button class=\"menu-toggle\" aria-controls=\"primary-menu\" aria-expanded=\"false\">\\n\\t\\t\\t\\t\\t<span class=\"mobile-menu\">Menu</span>\\t\\t\\t\\t</button>\\n\\t\\t\\t\\t<div id=\"primary-menu\" class=\"main-nav\"><ul id=\"menu-navigation-menu\" class=\" menu sf-menu\"><li id=\"menu-item-25\" class=\"menu-item menu-item-type-custom menu-item-object-custom menu-item-home menu-item-25\"><a href=\"http://www.herbshealth.ca/\">Home</a></li>\\n<li id=\"menu-item-26\" class=\"menu-item menu-item-type-post_type menu-item-object-page current-menu-item page_item page-item-2 current_page_item menu-item-26\"><a href=\"https://www.herbshealth.ca/about/\" aria-current=\"page\">About</a></li>\\n<li id=\"menu-item-42\" class=\"menu-item menu-item-type-post_type menu-item-object-page menu-item-42\"><a href=\"https://www.herbshealth.ca/%e5%85%bb%e7%94%9f%e4%bf%9d%e5%81%a5/\">中医养生保健</a></li>\\n<li id=\"menu-item-80\" class=\"menu-item menu-item-type-post_type menu-item-object-post menu-item-80\"><a href=\"https://www.herbshealth.ca/2020/07/07/acupuncture-for-weight-loss/\">针灸减肥</a></li>\\n<li id=\"menu-item-92\" class=\"menu-item menu-item-type-post_type menu-item-object-post menu-item-92\"><a href=\"https://www.herbshealth.ca/2020/07/07/facial-acupuncture/\">针灸祛斑</a></li>\\n</ul></div>\\t\\t\\t</div><!-- .inside-navigation -->\\n\\t\\t</nav><!-- #site-navigation -->\\n\\t\\t\\n\\t<div id=\"page\" class=\"hfeed site grid-container container grid-parent\">\\n\\t\\t\\t\\t<div id=\"content\" class=\"site-content\">\\n\\t\\t\\t\\n\\t<div id=\"primary\" class=\"content-area grid-parent mobile-grid-100 grid-75 tablet-grid-75\">\\n\\t\\t<main id=\"main\" class=\"site-main\">\\n\\t\\t\\t\\n<article id=\"post-2\" class=\"post-2 page type-page status-publish\" itemtype=\"https://schema.org/CreativeWork\" itemscope>\\n\\t<div class=\"inside-article\">\\n\\t\\t\\n\\t\\t\\t<header class=\"entry-header\">\\n\\t\\t\\t\\t<h1 class=\"entry-title\" itemprop=\"headline\">梁博士简介</h1>\\t\\t\\t</header><!-- .entry-header -->\\n\\n\\t\\t\\n\\t\\t<div class=\"entry-content\" itemprop=\"text\">\\n\\t\\t\\t\\n<div class=\"wp-block-image\"><figure class=\"alignleft size-large is-resized\"><img src=\"http://www.herbshealth.ca/wp-content/uploads/2020/07/my_face.jpg\" alt=\"\" class=\"wp-image-50\" width=\"107\" height=\"161\" srcset=\"https://www.herbshealth.ca/wp-content/uploads/2020/07/my_face.jpg 533w, https://www.herbshealth.ca/wp-content/uploads/2020/07/my_face-200x300.jpg 200w\" sizes=\"(max-width: 107px) 100vw, 107px\"/></figure></div>\\n\\n\\n\\n<p>梁兆晖博士，安大略省注册中医师，针灸师，广东省中医院副主任医师，2013年于广州中医院大学毕业取得医学博士学位，主修中医针灸临床和中医生活质素评估。梁博士自2003年起从事中医临床工作，在综合运用针药相须疗法治疗各种临床常见病、疑难病积累了丰富经验，擅长运用中医药和针灸综合治疗各种颈肩腰腿痛、肩周炎、退行性关节炎、痛风性关节炎、三叉神经痛、颞颌关节紊乱、头痛与偏头痛、更年期综合征、面瘫、老年慢性疾病等临床常见病症。</p>\\n\\n\\n\\n<p>梁博士认为，传统中医药（Traditional Chinese Medicine）是源于中国古代的传统医疗保健体系，距今已超过两千年历史。应用传统的阴阳五行理论认识人体机能，遵循六经辨证，脏腑辨证，卫气营血及三焦辨证 等辨证论治原则，以望、闻、问、切等方法诊察人体的气血阴阳和脏腑气血盛衰情况，按照八纲、六经、卫气营血等传统中医理论分析人体证候，运用针灸，中药，推拿，导引等传统方法治疗疾病，以恢复人体阴阳平衡，促进健康，养生延年。其中对各种常见疾病的中医治疗建议如下。</p>\\n\\n\\n\\n<ul><li><strong>各种感冒和流感</strong>：通过中药调理可较快控制咳嗽，鼻塞等不良症状，对感冒初起和后期余邪未清的低烧，咳嗽喷嚏，流涕效果显著，建议连续服用中药3-4天，每天2服。</li><li><strong>痛症</strong>：包括头痛，偏头痛，颈椎病，腰腿痛，肩周炎，坐骨神经痛，腰椎间盘突出症，肌肉劳损及筋骨扭伤引起的痛症等。建议针灸结合中医传统推拿手法治疗，每周2次，6 次一个疗程。</li><li><strong>关节炎</strong>：包括针灸结合中药综合治疗，每周2次，10次一个疗程。</li><li><strong>鼻炎 / 鼻窦炎</strong>：对各种过敏原引起的鼻痒，鼻塞，喷嚏症状，以及反复发作难愈的慢性鼻炎和鼻窦炎效果显著，可有效缓解鼻塞，头痛等症状。建议针灸结合中药治疗，每周2次，4次一个疗程。</li><li><strong>肩周炎</strong>：有效缓解肩部疼痛，松解关节粘连，恢复关节活动机能。建议针灸和中医推拿手法相结合，每周2次，10次一个疗程。</li><li><strong>失眠及焦虑症</strong>：中医针灸综合疗法能有效提高睡眠质量，提高强度，舒缓由失眠引起的各种抑郁症情绪，无并发症。建议针灸配合无痛耳针，每周2次，10次一个疗程。</li><li><strong>月经及更年期诸症</strong>：通过中药与针灸综合治理，调节激素水平，调整恢复正常月经周期，并有效缓解痛经及疲劳等经期症状。月经前后针灸配合灸法为主，其他时间中药为主，每周1次，3个月为一疗程。</li><li><strong>调经种子</strong>：适合有生育需求的人士，可配合西医辅助生殖技术（ART）同时治疗，以中药配合艾灸治疗为主。建议每周2次，3个月为一疗程。</li><li><strong>贝尔氏面瘫</strong>：急性期以中药配合针灸为主，恢复期以针灸为主。治疗以发病前3个月最关键，越早效果越好。建议每周2次治疗，连续治疗2个月。</li><li><strong>功能性胃肠病</strong>：通过中药配合针灸可改善胃肠功能，舒缓便秘或腹泻等症状，以及缓解相关的焦虑，烧心感，腹胀痞满，睡眠质量下降等症状。10次治疗为1个疗程。</li></ul>\\n\\n\\n\\n<figure class=\"wp-block-gallery aligncenter columns-3 is-cropped\"><ul class=\"blocks-gallery-grid\"><li class=\"blocks-gallery-item\"><figure><img src=\"http://www.herbshealth.ca/wp-content/uploads/2020/07/phd01.png\" alt=\"\" data-id=\"45\" data-link=\"http://www.herbshealth.ca/sample-page/phd01/#main\" class=\"wp-image-45\" srcset=\"https://www.herbshealth.ca/wp-content/uploads/2020/07/phd01.png 356w, https://www.herbshealth.ca/wp-content/uploads/2020/07/phd01-300x226.png 300w\" sizes=\"(max-width: 356px) 100vw, 356px\"/><figcaption class=\"blocks-gallery-item__caption\">取得医学博士学位</figcaption></figure></li><li class=\"blocks-gallery-item\"><figure><img src=\"http://www.herbshealth.ca/wp-content/uploads/2020/07/zhaohuiLiang01.png\" alt=\"\" data-id=\"46\" data-link=\"http://www.herbshealth.ca/sample-page/zhaohuiliang01/#main\" class=\"wp-image-46\" srcset=\"https://www.herbshealth.ca/wp-content/uploads/2020/07/zhaohuiLiang01.png 231w, https://www.herbshealth.ca/wp-content/uploads/2020/07/zhaohuiLiang01-225x300.png 225w\" sizes=\"(max-width: 231px) 100vw, 231px\"/><figcaption class=\"blocks-gallery-item__caption\">梁博士开诊</figcaption></figure></li><li class=\"blocks-gallery-item\"><figure><img src=\"http://www.herbshealth.ca/wp-content/uploads/2020/07/master.png\" alt=\"\" data-id=\"47\" data-link=\"http://www.herbshealth.ca/sample-page/master/#main\" class=\"wp-image-47\" srcset=\"https://www.herbshealth.ca/wp-content/uploads/2020/07/master.png 356w, https://www.herbshealth.ca/wp-content/uploads/2020/07/master-300x226.png 300w\" sizes=\"(max-width: 356px) 100vw, 356px\"/><figcaption class=\"blocks-gallery-item__caption\">跟师广东名老中医郑宗昌教授</figcaption></figure></li></ul></figure>\\n\\n\\n\\n<p>曾承担中国国家自然科学基金面上项目，参与美国国立医学研究院（NIH）、加拿大自然科学与工程研究委员会（NSERC）、安大略省研究基金（ORF）等多项政府资助医学研究项目，以第一作者在国际知名学术期刊发表中医针灸、中医养生等论著20余篇，研究成果获世界生活质素协会、欧洲抗衰老协会、美国国立医学研究院、中国国家自然科学基金委员会、韩国卫生部等知名机构认可。</p>\\n\\n\\n\\n<p>梁博士致力于中西医学交流，在取得中医针灸学医学博士学位之后，先后在加拿大约克大学、美国国立医学研究院等世界知名学术机构从事医学研究，获得丰硕成果，2017年取得约克大学硕士学位，多次在国际知名会议演讲并发表论文，并担任国际知名学术杂志编委和客座编辑。</p>\\n\\n\\n\\n<figure class=\"wp-block-gallery columns-3 is-cropped\"><ul class=\"blocks-gallery-grid\"><li class=\"blocks-gallery-item\"><figure><img src=\"http://www.herbshealth.ca/wp-content/uploads/2020/07/keynote.png\" alt=\"\" data-id=\"49\" data-full-url=\"http://www.herbshealth.ca/wp-content/uploads/2020/07/keynote.png\" data-link=\"http://www.herbshealth.ca/about/keynote/#main\" class=\"wp-image-49\" srcset=\"https://www.herbshealth.ca/wp-content/uploads/2020/07/keynote.png 368w, https://www.herbshealth.ca/wp-content/uploads/2020/07/keynote-300x201.png 300w\" sizes=\"(max-width: 368px) 100vw, 368px\"/><figcaption class=\"blocks-gallery-item__caption\">在国际中医大会发言</figcaption></figure></li><li class=\"blocks-gallery-item\"><figure><img src=\"http://www.herbshealth.ca/wp-content/uploads/2020/07/korea.png\" alt=\"\" data-id=\"48\" data-full-url=\"http://www.herbshealth.ca/wp-content/uploads/2020/07/korea.png\" data-link=\"http://www.herbshealth.ca/about/korea/#main\" class=\"wp-image-48\" srcset=\"https://www.herbshealth.ca/wp-content/uploads/2020/07/korea.png 360w, https://www.herbshealth.ca/wp-content/uploads/2020/07/korea-300x223.png 300w\" sizes=\"(max-width: 360px) 100vw, 360px\"/><figcaption class=\"blocks-gallery-item__caption\">在韩国结合医学峰会发言</figcaption></figure></li><li class=\"blocks-gallery-item\"><figure><img src=\"http://www.herbshealth.ca/wp-content/uploads/2020/07/guangzhongyi-1024x768.jpg\" alt=\"\" data-id=\"55\" data-full-url=\"http://www.herbshealth.ca/wp-content/uploads/2020/07/guangzhongyi-scaled.jpg\" data-link=\"http://www.herbshealth.ca/about/guangzhongyi/#main\" class=\"wp-image-55\" srcset=\"https://www.herbshealth.ca/wp-content/uploads/2020/07/guangzhongyi-1024x768.jpg 1024w, https://www.herbshealth.ca/wp-content/uploads/2020/07/guangzhongyi-300x225.jpg 300w, https://www.herbshealth.ca/wp-content/uploads/2020/07/guangzhongyi-768x576.jpg 768w, https://www.herbshealth.ca/wp-content/uploads/2020/07/guangzhongyi-1536x1152.jpg 1536w, https://www.herbshealth.ca/wp-content/uploads/2020/07/guangzhongyi-2048x1536.jpg 2048w\" sizes=\"(max-width: 1024px) 100vw, 1024px\"/><figcaption class=\"blocks-gallery-item__caption\">访问广州中医院大学</figcaption></figure></li><li class=\"blocks-gallery-item\"><figure><img src=\"http://www.herbshealth.ca/wp-content/uploads/2020/07/york_master-1024x768.jpg\" alt=\"\" data-id=\"59\" data-full-url=\"http://www.herbshealth.ca/wp-content/uploads/2020/07/york_master-scaled.jpg\" data-link=\"http://www.herbshealth.ca/about/york_master/#main\" class=\"wp-image-59\" srcset=\"https://www.herbshealth.ca/wp-content/uploads/2020/07/york_master-1024x768.jpg 1024w, https://www.herbshealth.ca/wp-content/uploads/2020/07/york_master-300x225.jpg 300w, https://www.herbshealth.ca/wp-content/uploads/2020/07/york_master-768x576.jpg 768w, https://www.herbshealth.ca/wp-content/uploads/2020/07/york_master-1536x1152.jpg 1536w, https://www.herbshealth.ca/wp-content/uploads/2020/07/york_master-2048x1536.jpg 2048w\" sizes=\"(max-width: 1024px) 100vw, 1024px\"/><figcaption class=\"blocks-gallery-item__caption\">取得约克大学硕士学业</figcaption></figure></li><li class=\"blocks-gallery-item\"><figure><img src=\"http://www.herbshealth.ca/wp-content/uploads/2020/07/NIH_research-1024x768.jpg\" alt=\"\" data-id=\"57\" data-full-url=\"http://www.herbshealth.ca/wp-content/uploads/2020/07/NIH_research-rotated.jpg\" data-link=\"http://www.herbshealth.ca/about/nih_research/#main\" class=\"wp-image-57\" srcset=\"https://www.herbshealth.ca/wp-content/uploads/2020/07/NIH_research-1024x768.jpg 1024w, https://www.herbshealth.ca/wp-content/uploads/2020/07/NIH_research-300x225.jpg 300w, https://www.herbshealth.ca/wp-content/uploads/2020/07/NIH_research-768x576.jpg 768w, https://www.herbshealth.ca/wp-content/uploads/2020/07/NIH_research-rotated.jpg 1280w\" sizes=\"(max-width: 1024px) 100vw, 1024px\"/><figcaption class=\"blocks-gallery-item__caption\">在美国NIH从事医学研究</figcaption></figure></li></ul></figure>\\n\\t\\t</div><!-- .entry-content -->\\n\\n\\t\\t\\t</div><!-- .inside-article -->\\n</article><!-- #post-## -->\\n\\t\\t</main><!-- #main -->\\n\\t</div><!-- #primary -->\\n\\n\\t<div id=\"right-sidebar\" class=\"widget-area grid-25 tablet-grid-25 grid-parent sidebar\" itemtype=\"https://schema.org/WPSideBar\" itemscope>\\n\\t<div class=\"inside-right-sidebar\">\\n\\t\\t\\t<aside id=\"search\" class=\"widget widget_search\">\\n\\t\\t<form method=\"get\" class=\"search-form\" action=\"https://www.herbshealth.ca/\">\\n\\t<label>\\n\\t\\t<span class=\"screen-reader-text\">Search for:</span>\\n\\t\\t<input type=\"search\" class=\"search-field\" placeholder=\"Search &hellip;\" value=\"\" name=\"s\" title=\"Search for:\">\\n\\t</label>\\n\\t<input type=\"submit\" class=\"search-submit\" value=\"Search\">\\n</form>\\n\\t</aside>\\n\\n\\t<aside id=\"archives\" class=\"widget\">\\n\\t\\t<h2 class=\"widget-title\">Archives</h2>\\n\\t\\t<ul>\\n\\t\\t\\t\\t<li><a href=\\'https://www.herbshealth.ca/2020/07/\\'>July 2020</a></li>\\n\\t<li><a href=\\'https://www.herbshealth.ca/2020/06/\\'>June 2020</a></li>\\n\\t\\t</ul>\\n\\t</aside>\\n\\t\\t</div><!-- .inside-right-sidebar -->\\n</div><!-- #secondary -->\\n\\n\\t</div><!-- #content -->\\n</div><!-- #page -->\\n\\n\\n<div class=\"site-footer\">\\n\\t\\t\\t<footer class=\"site-info\" itemtype=\"https://schema.org/WPFooter\" itemscope>\\n\\t\\t\\t<div class=\"inside-site-info grid-container grid-parent\">\\n\\t\\t\\t\\t\\t\\t\\t\\t<div class=\"copyright-bar\">\\n\\t\\t\\t\\t\\t<span class=\"copyright\">&copy; 2020 Acupuncturist &amp; Herbalist in GTA</span> &bull; Powered by <a href=\"https://generatepress.com\" itemprop=\"url\">GeneratePress</a>\\t\\t\\t\\t</div>\\n\\t\\t\\t</div>\\n\\t\\t</footer><!-- .site-info -->\\n\\t\\t</div><!-- .site-footer -->\\n\\n<!--[if lte IE 11]>\\n<script type=\\'text/javascript\\' src=\\'https://www.herbshealth.ca/wp-content/themes/generatepress/js/classList.min.js?ver=2.4.2\\'></script>\\n<![endif]-->\\n<script type=\\'text/javascript\\' src=\\'https://www.herbshealth.ca/wp-content/themes/generatepress/js/menu.min.js?ver=2.4.2\\'></script>\\n<script type=\\'text/javascript\\' src=\\'https://www.herbshealth.ca/wp-content/themes/generatepress/js/a11y.min.js?ver=2.4.2\\'></script>\\n<script type=\\'text/javascript\\' src=\\'https://c0.wp.com/c/5.4.2/wp-includes/js/wp-embed.min.js\\'></script>\\n<script type=\\'text/javascript\\' src=\\'https://stats.wp.com/e-202032.js\\' async=\\'async\\' defer=\\'defer\\'></script>\\n<script type=\\'text/javascript\\'>_stq=window._stq||[];_stq.push([\\'view\\',{v:\\'ext\\',j:\\'1:8.6.1\\',blog:\\'179804682\\',post:\\'2\\',tz:\\'0\\',srv:\\'www.herbshealth.ca\\'}]);_stq.push([\\'clickTrackerInit\\',\\'179804682\\',\\'2\\']);</script>\\n\\n</body>\\n</html>\\n'"
            ]
          },
          "metadata": {
            "tags": []
          },
          "execution_count": 12
        }
      ]
    },
    {
      "cell_type": "code",
      "metadata": {
        "id": "PbuVGTVt0Rsp",
        "colab_type": "code",
        "colab": {
          "base_uri": "https://localhost:8080/",
          "height": 159
        },
        "outputId": "012b1d54-37e8-480e-8cf8-870923c6cff4"
      },
      "source": [
        "from bs4 import BeautifulSoup\n",
        "import re\n",
        "\n",
        "\n",
        "regex = re.compile('figcaption')\n",
        "soup = BeautifulSoup(response.text, 'lxml')\n",
        "pattern = soup.find_all(regex)\n",
        "\n",
        "for item in pattern:\n",
        "  print(item.text)\n"
      ],
      "execution_count": null,
      "outputs": [
        {
          "output_type": "stream",
          "text": [
            "取得医学博士学位\n",
            "梁博士开诊\n",
            "跟师广东名老中医郑宗昌教授\n",
            "在国际中医大会发言\n",
            "在韩国结合医学峰会发言\n",
            "访问广州中医院大学\n",
            "取得约克大学硕士学业\n",
            "在美国NIH从事医学研究\n"
          ],
          "name": "stdout"
        }
      ]
    },
    {
      "cell_type": "markdown",
      "metadata": {
        "id": "1yM5Xojp1V0i",
        "colab_type": "text"
      },
      "source": [
        "Get all the titles from a new page (with AJAX script)"
      ]
    },
    {
      "cell_type": "code",
      "metadata": {
        "id": "yhK5lfpp3kWJ",
        "colab_type": "code",
        "colab": {
          "base_uri": "https://localhost:8080/",
          "height": 941
        },
        "outputId": "6b8fd353-b8d2-4560-e7f7-57310380b856"
      },
      "source": [
        "import requests\n",
        "from bs4 import BeautifulSoup\n",
        "import re\n",
        "\n",
        "headers = {'User-Agent': 'Mozilla/5.0 (Windows NT 10.0; Win64; x64) AppleWebKit/537.36 (KHTML, like Gecko) Chrome/84.0.4147.105 Safari/537.36'}\n",
        "\n",
        "r = requests.get('https://feed.mix.sina.com.cn/api/roll/get?pageid=153&lid=2509&k=&num=50&page=1&r=0.8915410555425298&callback=jQuery111206207858513920999_1596683842058&_=1596683842060',\n",
        "                 headers = headers)\n",
        "\n",
        "# encode the non-English characters into unicode\n",
        "text = r.text.encode('utf-8').decode('unicode-escape')\n",
        "\n",
        "# get all the titles of the news\n",
        "# use https://regex101.com/ to verify and group your regular expression\n",
        "regex = re.compile('\"title\":\"(.*?)\"')\n",
        "p = re.findall(regex,text)\n",
        "for item in p:\n",
        "  print(item)\n"
      ],
      "execution_count": null,
      "outputs": [
        {
          "output_type": "stream",
          "text": [
            "券商7月大爆发：中信单月赚了去年四个月的钱 发生了什么？\n",
            "佩洛西称刺激法案谈判取得进展 但双方立场仍相距甚远\n",
            "世卫组织：卫生领域投资对国家安全至关重要\n",
            "意大利新增新冠肺炎确诊病例402例 累计确诊249204例\n",
            "福奇：疫情反弹将令部分美国城市“有麻烦”\n",
            "毛里塔尼亚总统任命比拉勒为新总理\n",
            "摩尔多瓦新增406例新冠肺炎确诊病例 累计26628例\n",
            "美国波特兰抗议活动持续 警方与示威者再度发生冲突\n",
            "纽约总检察长提起诉讼 要求解散美步枪协会\n",
            "黎巴嫩新冠肺炎确诊病例达5672例 新增255例\n",
            "里士满联储行长：美国经济复苏的强度不及预期\n",
            "希腊新增新冠肺炎确诊病例153例 累计5123例\n",
            "世卫组织：全球新冠肺炎确诊病例超过1861万例\n",
            "土耳其里拉再贬值 对美元、欧元汇率创历史新低\n",
            "长三角示范区的职校学生如何共享教育资源？官方解读\n",
            "四大行回应薪酬问题\n",
            "爆炸或损失150亿美元 黎巴嫩紧急搜救限4天“破案”\n",
            "理想汽车回应车辆起火：初步判断为疑似铁片击穿高压油管\n",
            "四川28岁女子菲律宾失联73天 失联当天还与母亲视频\n",
            "沙特下调销往亚洲和欧洲的原油定价 因OPEC+放宽产量限制\n",
            "甘肃省普通高校招生本科提前批A段开始录取\n",
            "特朗普：新冠疫苗可能在11月3日左右面世\n",
            "巴西法院裁决禁止里约学校复课 对允许复课的市长进行处罚\n",
            "午盘：美股窄幅震荡 纳指创盘中新高\n",
            "津巴布韦新增118例新冠肺炎确诊病例 累计4339例\n",
            "保就业！财政政策后续聚焦六领域\n",
            "“深圳金融行动方案”来了！ 打造全球金融科技与可持续金融中心\n",
            "直播带货惹纠纷 主播到底该不该负责？\n",
            "中国支付清算协会：今年上半年共查处网络赌博案2272件\n",
            "与美国三井合同纠纷首次仲裁不利 东凌国际不认可结果将上诉\n",
            "量化投资先锋表示要做好疫苗悲喜带来市场跌宕起伏的准备\n",
            "德国7月短时工人数减少 整体态势积极\n",
            "纳米比亚新增新冠肺炎确诊病例112例 累计2652例\n",
            "北京消费季周六启动“生活月”\n",
            "清华首封本科录取通知书发出 校长赠书《乡土中国》\n",
            "英国金融时报：微软寻求达成收购TikTok全球所有业务的交易\n",
            "视频|郭磊：通缩交易利好创业板，复苏交易行情市场风格更均衡\n",
            "很突然！法国总统马克龙到黎巴嫩了\n",
            "黎巴嫩大爆炸，CNN果然开始带节奏\n",
            "关于孟晚舟案，中国大使今晚透露大量信息！\n",
            "谷歌狂删2500多个“中国账号”\n",
            "特朗普将签署行政令 要求联邦政府从美国公司购买“基本”药品\n",
            "南非商界呼吁对经济复苏采取行动\n",
            "魏凤和同美国国防部长通电话\n",
            "Facebook日内涨幅扩大至4.12%，市值达7389亿美元\n",
            "污染超标 这家车企将在美召回约100万辆汽车！\n",
            "一名天涯老用户找不到家了\n",
            "视频|广发郭磊：市场风格从通缩交易逐步走向复苏交易\n",
            "哥伦比亚政府宣布对小额跨境商品免征关税\n",
            "瑞典新增新冠肺炎确诊病例427例 累计81967例\n"
          ],
          "name": "stdout"
        },
        {
          "output_type": "stream",
          "text": [
            "/usr/local/lib/python3.6/dist-packages/ipykernel_launcher.py:11: DeprecationWarning: invalid escape sequence '\\/'\n",
            "  # This is added back by InteractiveShellApp.init_path()\n"
          ],
          "name": "stderr"
        }
      ]
    },
    {
      "cell_type": "markdown",
      "metadata": {
        "id": "hboONgF31jk8",
        "colab_type": "text"
      },
      "source": [
        "Get all the comments on a book review and compute the average rating"
      ]
    },
    {
      "cell_type": "code",
      "metadata": {
        "id": "eWXlrdXfQVzO",
        "colab_type": "code",
        "colab": {
          "base_uri": "https://localhost:8080/",
          "height": 535
        },
        "outputId": "791b86ca-ee36-4d38-c339-7b070153af91"
      },
      "source": [
        "# book page: https://book.douban.com/subject/34990157/?icn=index-latestbook-subject\n",
        "# find the book comment page\n",
        "\n",
        "# specify the browser in the header to decode the response\n",
        "headers = {'User-Agent': 'Mozilla/5.0 (Windows NT 10.0; Win64; x64) AppleWebKit/537.36 (KHTML, like Gecko) Chrome/84.0.4147.105 Safari/537.36'}\n",
        "\n",
        "r = requests.get('https://book.douban.com/subject/34990157/comments/', headers=headers)\n",
        "\n",
        "soup = BeautifulSoup(r.text, 'lxml')\n",
        "title = soup.find_all('title')\n",
        "title = title[0].string.split()[0]\n",
        "pattern = soup.find_all('span','short')\n",
        "\n",
        "print(f'Book title: {title}\\n')\n",
        "# the pattern is a set of bs4 Tag element, use .string to get the text\n",
        "for item in pattern:\n",
        "    print(item.string)\n",
        "\n",
        "pattern_s = re.compile('<span class=\"user-stars allstar(.*?) rating\"')\n",
        "p = re.findall(pattern_s, r.text)\n",
        "s = 0\n",
        "for star in p:\n",
        "    s += int(star)\n",
        "\n",
        "print(f'Total rating score {s}')\n",
        "print('Average rating score {:.2f}'.format(float(s/len(p))))"
      ],
      "execution_count": null,
      "outputs": [
        {
          "output_type": "stream",
          "text": [
            "Book title: 女佣的故事\n",
            "\n",
            "斯蒂芬妮 • 兰德在气质上很像加缪《鼠疫》中的里厄医生。他们无论从事何种职业、身在哪个国家，都是“人间世”的光，他们存在的意义更在于一种务实的态度。“鼠疫”爆发，奥兰城被封，居民们显出了“众生相”：有的宣扬宗教审判论，有的疯狂攻击不公的制度，有的偷着找发财的门路，更多的人选择自私、麻木或及时行乐。唯有里厄医生和他的战友们在坚守、在反抗，他们承认自己的屡战屡败，承认这生活的荒诞和无法逆转，但他们就是要倔强地固守自己作为生命的尊严和不屈。回望斯蒂芬妮的一路走来，她之所以打动了无数人，并不是因为她如何卖惨、如何抨击美国梦，她只是用最质朴也是最坚韧的方式，一直执拗地捍卫着自己的不屈和尊严。只有真正在底层摸爬滚打过的人，才会懂得《女佣的故事》的真谛：“别净整那些没用的，想方设法活下去才特么是王道。”\n",
            "一部女性跌落底层又逆袭的奋斗史。美国前总统奥巴马力荐，还是有些真东西的。如果这本书光是描述底层的苦难，相信不会引起全球这么多读者的喜爱。文中兰德的经历，之所以让人感受到激励和鼓舞，是她永不放弃的精神和独立思考的能力，远非一般人可比拟的。\n",
            "单亲妈妈的故事，都知道很难，但是看了这本书，你会发现在美国如果沦入底层，再加上单亲妈妈的身份，会更难。\n",
            "为母则刚，每个妈妈都是孩子生命的守护天使，哪怕自己粉身碎骨也是想要尽量给孩子一个良好的成长环境，这是一本看得让我很心疼的书，我也是单亲妈妈，但是回想我和儿子的生活，远没有如此这般艰辛，再次感叹我大中华的体制，备有安全感。\n",
            "一个女人，哪怕单亲，哪怕生活将你打倒，只要你持续的努力，只要你持续的学习，终究会越来越好，终究会收获不一样的结果！\n",
            "加油！每一个在逆境中艰难挣扎的人！\n",
            "兰德给人更多的感觉是她强韧积极的生命力，而不是身处一个友爱缺失的世界，她的失望和心灰意冷。面对同样的环境，人的处理方式截然不同。兰德的神奇之处在于她的责任和梦想。对女儿的责任让她即便连崩溃都分身乏术，对梦想的坚持让她敏锐地捕捉周遭的一切，把逆境转化成顺境。虽然事实上她的回报远远不能匹配她的付出。兰德让我想起电影刺猬的优雅中，那个门房女人。即便从事着一份别人眼里低微的职业，却仍然能在内心深处保留着一份深沉的热望。或许不是看别人的几个故事几条励志金句就能获得正能量，正能量更要求自己本身必须是一个强大的能量源。\n",
            "女性，单亲妈妈，没有家人可以依靠，孩子的爸爸是一个粗鲁，暴躁，自私，根本没法沟通的男人，你无法想象作者到底是怎么熬过来的。我有好多次都看得流泪了，因为这种孤独压抑的感觉，我在带娃的过程中也曾体会过。当然，作者的故事不仅仅在于此。从她的文字里，我们可以从某种角度感受到美国的整个社会体系，以及它的底层福利制度，这有助于开拓我们的视野。另外，作者的生活虽然很艰难，但是她很努力，她把自己的工作，生活都记录了下来，如果仔细阅读的话，你可以从中学习到她在面对困境时是怎么去主动改变的，以及她是如何思考工作和生活的，这对我们更有意义。\n",
            "讲述一位在婚姻失败后，为了女儿奋斗的美国底层母亲。事件较单纯，可以说她遇人不淑，关键在于如何打好一手自己造成的“烂牌”，所幸她有着无与伦比的执行力，坚持信念，并真诚地寻求帮助，不以为耻是需要勇气的，也让读者感受到其带来的改变。本作也能对美国的福利制度有一定的认知，这方面见仁见智，详见本人长评。8.2。\n",
            "学妹的译著，译的很流畅，故事真实感人，美国的福利制度相比我们还是很完善了\n",
            "被家暴，与贫穷相伴，没钱没家世没学历无人帮忙的单亲妈妈，怎么样才能够挣扎出贫困的泥潭，摆脱困境，过上自己向往的人生。贫穷是那么可怕，没有亲身经历过的人大概是永远无法体会，房租怎么付，明天吃什么，还有机会能吃饱吗？每一件生活小事都是压垮神经的最后一根稻草，而且这一切的可怕经历都是源于贫穷。穷，就可以把你打入十八层地狱，只能一级又一级地苦苦挣扎着爬上来。这本书就是讲述没有美貌也没有天纵英才的平庸单亲妈妈是怎样依靠自己的一点点努力终于爬出贫穷这个魔窟的真实故事。\n",
            "看完之后想起马克思说金钱是人的本质力量，从书中就可以看出，当“我”获得退税和奖学金的钱之时，“我”便发生了变化，获得了一定意义上的解放。但是最大的问题不在于金钱的力量，而在于如何获得金钱，很明显主人公所处的社会并不能很顺利的让她获取金钱，获得解放。书写的很棒，至少在一定意义上然后我这个异乡的学生见识到了什么是美国的底层。\n",
            "序言是《我在底层的生活》作者芭芭拉写的，那句“（女佣的世界）被短缺所统治”太精准。贫困的生活让作者斯蒂芬妮如同紧抓着悬崖边求存一般，在各种他人的House里辗转（全书27章，有11章的小标题结尾都是House），最后才勉强拥有了自己的Home。那些不得不算计时薪的片段，那些硬着头皮做不会的料理的片段，那些受辱受困，让人揪心的片段……中产才会不痛不痒地说“那些上天赐给你的礼物，都在暗中标定价格”，真正的底层才是每天都被各种真实的价格踩着手指活着。读的时候多少又会想起《小小小小的火》里那对黑人母女，她们同样热爱艺文，但艰苦谋生让阳春白雪变成奢侈品。\n",
            "倘若你细细品味，你会发现斯蒂芬妮的经历似乎将人生所有的不幸都涵盖了，但她依然在努力活着，为了自己的女儿奋斗着，也为了自己的梦想坚持着。环顾我们自己的一生，每个人都会经历苦难、磨练、甚至是不可言说的折磨，但只要我们坚持下去，不轻言放弃，我们的人生依然可以乘风破浪，风光无限。\n",
            "《女佣的故事》这本书让我印象最深刻的一句话是，我这辈子唯一的遗憾并不是告诉杰米我怀孕了、独自养育孩子，而是放弃了自己的大学计划。一个人的生活是由她的选择决定的。兰德一开始选择和杰米生下米娅，就决定她要成为一个妈妈，离开杰米，就决定她要独自抚养孩子，一开始放弃学业就意味可能因为知识能力的不足，而不得不选择一份底层工作来维持生存。但她勇敢地为自己的选择负责任，努力工作，坚持写作，最终还是用她自己的双手扭转人生。\n",
            "再没有遇见境况比她还差的人了。 逆境中蜕变，只为给女儿一个家。 \n",
            "王尔德说，“我们都生活在阴沟里，但仍有人仰望星空。”（We are all in the gutter, but some of us are looking at the stars。）兰德就是这个身处污泥之中，仍然不会忘记仰望星空的人。心性高的人，内心有一股子韧劲，不会轻易服输，誓要和命运抗争到底。\n",
            "光看贼吃肉没看到贼挨打？M国底层生活了解下\n",
            "底层美国白人女性奋斗记。女性贫困在全球范围内各个国家都是典型问题。女孩子的路也很难走，一步走错，步步深渊。好在女主不忘梦想，坚持写作。也了借助写作基金会的帮助。女主还可以靠着写作翻身，那些没有写作技能的人呢？他们还在苦苦挣扎。其实我们不了解美国人，就像美国人不了解我们一样。\n",
            "用几个小时速读的，前100页仔细读，中间在不同人家做女佣的部分没有重点去读，这本书里有和《你当像鸟飞往你的山》相似的感觉，是一种自我揭穿式的写作。她们不仅敢于直面现实人生，也敢于直面自己心里那些不够光彩的念头，而那些正是每个人都有的。\n",
            "可怜之人必有可恨之处！女主在没有任何准备的前提下，贸然生下孩子，没有经济独立的能力去抚养一个刚出生的孩子，这本身就是一件天大的难事，加上父母兄弟和爱人都不在身边，独自一人带娃还得工作，想想都觉得这是一件不可能完成的事。然而，为母则刚，女性的韧劲能有多强大，在女主身上体现得淋漓尽致。天无绝人之路，一切都向着好的方向发展，也给了女主和读者期望。\n",
            "又是一个绝处逢生的励志故事\n",
            "一个深处底层的人如果只靠努力就想走出困境，想必不可能。\n",
            "哪个人不努力呢？真正的还是靠智慧，坚持不放弃，独立思考\n",
            "Total rating score 840\n",
            "Average rating score 44.21\n"
          ],
          "name": "stdout"
        }
      ]
    },
    {
      "cell_type": "markdown",
      "metadata": {
        "id": "jP4JlOdDNarB",
        "colab_type": "text"
      },
      "source": [
        "Get the DOW JONES INDU AVERAGE NDX information: <p>\n",
        "company code, company name, price <p>\n",
        "list them in a table"
      ]
    },
    {
      "cell_type": "code",
      "metadata": {
        "id": "q9Zf8LyJNmWS",
        "colab_type": "code",
        "colab": {}
      },
      "source": [
        "headers = {'User-Agent': 'Mozilla/5.0 (Windows NT 10.0; Win64; x64) AppleWebKit/537.36 (KHTML, like Gecko) Chrome/84.0.4147.105 Safari/537.36'}\n",
        "\n",
        "response = requests.get('https://money.cnn.com/data/markets/dow/', headers=headers)\n",
        "\n",
        "#use non-greedy algorithm (.*?) to restrict the search in one table\n",
        "regex = re.compile('<h3>Gainers</h3>(<table\\s.*?<th>.*?</th>.*?</table>)') \n",
        "# first get the whole table - it can be more than one table on the page\n",
        "table_text = re.findall(regex, response.text)\n",
        "table_text = table_text[0] # list to string"
      ],
      "execution_count": null,
      "outputs": []
    },
    {
      "cell_type": "code",
      "metadata": {
        "id": "vXTFVmWisn7r",
        "colab_type": "code",
        "colab": {}
      },
      "source": [
        "regex_h = re.compile('<th.*?>(.*?)</th>')\n",
        "p_header = re.findall(regex_h, table_text)"
      ],
      "execution_count": null,
      "outputs": []
    },
    {
      "cell_type": "code",
      "metadata": {
        "id": "D4PIR3f74OBJ",
        "colab_type": "code",
        "colab": {}
      },
      "source": [
        "regex_data = re.compile('<tr><td.*?>.*?>(.*?)<.*?<span.*?>(.*?)</span>.*?<span.*?>(\\d{1,4}\\.\\d{2})</span>.*?<span.*?>([+-]\\d{1,2}\\.\\d{2})</span>.*?<span.*?>([+-]\\d{1,2}\\.\\d{2}%)')\n",
        "data = re.findall(regex_data, table_text)"
      ],
      "execution_count": null,
      "outputs": []
    },
    {
      "cell_type": "code",
      "metadata": {
        "id": "stecfGlWI4Y3",
        "colab_type": "code",
        "colab": {}
      },
      "source": [
        "p_header.insert(0, 'Acronym')"
      ],
      "execution_count": null,
      "outputs": []
    },
    {
      "cell_type": "code",
      "metadata": {
        "id": "VsD7AgvqJnfo",
        "colab_type": "code",
        "colab": {
          "base_uri": "https://localhost:8080/",
          "height": 35
        },
        "outputId": "a96dcb03-e4f5-4dd0-eec2-41e1bd765590"
      },
      "source": [
        "(p_header)"
      ],
      "execution_count": null,
      "outputs": [
        {
          "output_type": "execute_result",
          "data": {
            "text/plain": [
              "['Acronym', 'Company', 'Price', 'Change', '% Change']"
            ]
          },
          "metadata": {
            "tags": []
          },
          "execution_count": 78
        }
      ]
    },
    {
      "cell_type": "code",
      "metadata": {
        "id": "5xmkHjOxI_7C",
        "colab_type": "code",
        "colab": {
          "base_uri": "https://localhost:8080/",
          "height": 159
        },
        "outputId": "794ef3aa-5181-4555-97b5-288c77e79ee1"
      },
      "source": [
        "data"
      ],
      "execution_count": null,
      "outputs": [
        {
          "output_type": "execute_result",
          "data": {
            "text/plain": [
              "[('DIS', 'Walt Disney Co', '130.96', '+3.35', '+2.63%'),\n",
              " ('MCD', \"Mcdonald's Corp\", '202.90', '+3.64', '+1.83%'),\n",
              " ('HD', 'Home Depot Inc', '269.31', '+1.83', '+0.68%'),\n",
              " ('IBM', 'International Business Machine...', '125.99', '+0.54', '+0.43%'),\n",
              " ('VZ', 'Verizon Communications Inc', '57.77', '+0.23', '+0.40%'),\n",
              " ('MMM', '3M Co', '155.83', '+0.48', '+0.31%'),\n",
              " ('V', 'Visa Inc', '196.67', '+0.57', '+0.29%'),\n",
              " ('KO', 'Coca-Cola Co', '47.34', '+0.10', '+0.24%')]"
            ]
          },
          "metadata": {
            "tags": []
          },
          "execution_count": 66
        }
      ]
    },
    {
      "cell_type": "code",
      "metadata": {
        "id": "H50qFdYiJ9RF",
        "colab_type": "code",
        "colab": {
          "base_uri": "https://localhost:8080/",
          "height": 291
        },
        "outputId": "50d3f920-0bf5-42c0-de94-fb05129c4ee7"
      },
      "source": [
        "import pandas as pd\n",
        "\n",
        "data_table = pd.DataFrame(data=data, columns=p_header)\n",
        "data_table"
      ],
      "execution_count": null,
      "outputs": [
        {
          "output_type": "execute_result",
          "data": {
            "text/html": [
              "<div>\n",
              "<style scoped>\n",
              "    .dataframe tbody tr th:only-of-type {\n",
              "        vertical-align: middle;\n",
              "    }\n",
              "\n",
              "    .dataframe tbody tr th {\n",
              "        vertical-align: top;\n",
              "    }\n",
              "\n",
              "    .dataframe thead th {\n",
              "        text-align: right;\n",
              "    }\n",
              "</style>\n",
              "<table border=\"1\" class=\"dataframe\">\n",
              "  <thead>\n",
              "    <tr style=\"text-align: right;\">\n",
              "      <th></th>\n",
              "      <th>Acronym</th>\n",
              "      <th>Company</th>\n",
              "      <th>Price</th>\n",
              "      <th>Change</th>\n",
              "      <th>% Change</th>\n",
              "    </tr>\n",
              "  </thead>\n",
              "  <tbody>\n",
              "    <tr>\n",
              "      <th>0</th>\n",
              "      <td>DIS</td>\n",
              "      <td>Walt Disney Co</td>\n",
              "      <td>130.96</td>\n",
              "      <td>+3.35</td>\n",
              "      <td>+2.63%</td>\n",
              "    </tr>\n",
              "    <tr>\n",
              "      <th>1</th>\n",
              "      <td>MCD</td>\n",
              "      <td>Mcdonald's Corp</td>\n",
              "      <td>202.90</td>\n",
              "      <td>+3.64</td>\n",
              "      <td>+1.83%</td>\n",
              "    </tr>\n",
              "    <tr>\n",
              "      <th>2</th>\n",
              "      <td>HD</td>\n",
              "      <td>Home Depot Inc</td>\n",
              "      <td>269.31</td>\n",
              "      <td>+1.83</td>\n",
              "      <td>+0.68%</td>\n",
              "    </tr>\n",
              "    <tr>\n",
              "      <th>3</th>\n",
              "      <td>IBM</td>\n",
              "      <td>International Business Machine...</td>\n",
              "      <td>125.99</td>\n",
              "      <td>+0.54</td>\n",
              "      <td>+0.43%</td>\n",
              "    </tr>\n",
              "    <tr>\n",
              "      <th>4</th>\n",
              "      <td>VZ</td>\n",
              "      <td>Verizon Communications Inc</td>\n",
              "      <td>57.77</td>\n",
              "      <td>+0.23</td>\n",
              "      <td>+0.40%</td>\n",
              "    </tr>\n",
              "    <tr>\n",
              "      <th>5</th>\n",
              "      <td>MMM</td>\n",
              "      <td>3M Co</td>\n",
              "      <td>155.83</td>\n",
              "      <td>+0.48</td>\n",
              "      <td>+0.31%</td>\n",
              "    </tr>\n",
              "    <tr>\n",
              "      <th>6</th>\n",
              "      <td>V</td>\n",
              "      <td>Visa Inc</td>\n",
              "      <td>196.67</td>\n",
              "      <td>+0.57</td>\n",
              "      <td>+0.29%</td>\n",
              "    </tr>\n",
              "    <tr>\n",
              "      <th>7</th>\n",
              "      <td>KO</td>\n",
              "      <td>Coca-Cola Co</td>\n",
              "      <td>47.34</td>\n",
              "      <td>+0.10</td>\n",
              "      <td>+0.24%</td>\n",
              "    </tr>\n",
              "  </tbody>\n",
              "</table>\n",
              "</div>"
            ],
            "text/plain": [
              "  Acronym                            Company   Price Change % Change\n",
              "0     DIS                     Walt Disney Co  130.96  +3.35   +2.63%\n",
              "1     MCD                    Mcdonald's Corp  202.90  +3.64   +1.83%\n",
              "2      HD                     Home Depot Inc  269.31  +1.83   +0.68%\n",
              "3     IBM  International Business Machine...  125.99  +0.54   +0.43%\n",
              "4      VZ         Verizon Communications Inc   57.77  +0.23   +0.40%\n",
              "5     MMM                              3M Co  155.83  +0.48   +0.31%\n",
              "6       V                           Visa Inc  196.67  +0.57   +0.29%\n",
              "7      KO                       Coca-Cola Co   47.34  +0.10   +0.24%"
            ]
          },
          "metadata": {
            "tags": []
          },
          "execution_count": 80
        }
      ]
    },
    {
      "cell_type": "markdown",
      "metadata": {
        "id": "Yeuc1kKJ1il8",
        "colab_type": "text"
      },
      "source": [
        "Get the statistics data from the volleyball league website: https://www.volleyball.world/en/vnl/women/statistics<p>\n",
        "Store in a pandas DataFrame and export into a CSV file"
      ]
    },
    {
      "cell_type": "code",
      "metadata": {
        "id": "jnuL6URs1uRP",
        "colab_type": "code",
        "colab": {}
      },
      "source": [
        "import pandas as pd\n",
        "\n",
        "headers = {'User-Agent': 'Mozilla/5.0 (Windows NT 10.0; Win64; x64) AppleWebKit/537.36 (KHTML, like Gecko) Chrome/84.0.4147.105 Safari/537.36'}\n",
        "\n",
        "response = requests.get('https://www.volleyball.world/en/women/statistics', headers=headers)\n"
      ],
      "execution_count": null,
      "outputs": []
    },
    {
      "cell_type": "code",
      "metadata": {
        "id": "EUusatns2qik",
        "colab_type": "code",
        "colab": {}
      },
      "source": [
        "# get the table header \n",
        "# the header can be different in different tables\n",
        "text = response.text.strip().replace(\"\\n\",\" \")"
      ],
      "execution_count": null,
      "outputs": []
    },
    {
      "cell_type": "code",
      "metadata": {
        "id": "UgLU-hcp4HHh",
        "colab_type": "code",
        "colab": {}
      },
      "source": [
        "regex = re.compile('<a\\s.*>Best Receivers.*?<th>(.*?)</th><th>(.*?)</th>')\n",
        "p = re.findall(regex, text)"
      ],
      "execution_count": null,
      "outputs": []
    },
    {
      "cell_type": "code",
      "metadata": {
        "id": "Uj6AvWXB4wQC",
        "colab_type": "code",
        "colab": {
          "base_uri": "https://localhost:8080/",
          "height": 35
        },
        "outputId": "4b205123-7d98-455f-dcaa-4c8a7c58f4c4"
      },
      "source": [
        "p"
      ],
      "execution_count": null,
      "outputs": [
        {
          "output_type": "execute_result",
          "data": {
            "text/plain": [
              "['Rank']"
            ]
          },
          "metadata": {
            "tags": []
          },
          "execution_count": 45
        }
      ]
    },
    {
      "cell_type": "markdown",
      "metadata": {
        "id": "HS-0_8-55p5b",
        "colab_type": "text"
      },
      "source": [
        "Compute all types of score for a movie review"
      ]
    },
    {
      "cell_type": "code",
      "metadata": {
        "id": "vM7eg8KDoTgi",
        "colab_type": "code",
        "colab": {
          "base_uri": "https://localhost:8080/",
          "height": 124
        },
        "outputId": "460c280a-48d5-4286-8db1-cd76cdd047b6"
      },
      "source": [
        "import json\n",
        "import re\n",
        "import numpy as np\n",
        "\n",
        "\n",
        "headers = {'User-Agent': 'Mozilla/5.0 (Windows NT 10.0; Win64; x64) AppleWebKit/537.36 (KHTML, like Gecko) Chrome/84.0.4147.105 Safari/537.36'}\n",
        "\n",
        "response = requests.get('https://www.rottentomatoes.com/m/an_american_pickle', headers=headers)\n",
        "soup = BeautifulSoup(response.text, 'lxml')\n",
        "result = soup.find_all('title')\n",
        "print(f'Movie title: {result[0].string}')\n",
        "\n",
        "\n",
        "# use Regex NOT the Soup to find the score\n",
        "# given pattern: \"avgScore\":5.84,\"freshCount\":15,\"numberOfReviews\":20,\"rottenCount\":5,\"score\":75,\n",
        "pattern_s = re.compile('\\\"([A-z]*Score)\\\":(\\d+\\.*\\d{1,2})') # group-0 for score name, group-1 for value\n",
        "p = re.findall(pattern_s, response.text)\n",
        "\n",
        "# scores = np.empty([1,len(p)])\n",
        "scores_dict = dict()\n",
        "names = []\n",
        "for item in p:\n",
        "  names.append(item[0])\n",
        "\n",
        "score_type = set(names)\n",
        "for item in score_type:\n",
        "  scores_dict[item] = list()\n",
        "\n",
        "for item in p:\n",
        "  scores_dict[item[0]].append(float(item[1]))\n",
        "\n",
        "for name, scores in scores_dict.items():\n",
        "  s = np.array(scores)\n",
        "  avg = np.average(s, axis=-1)\n",
        "  print(\"{:20s}: {:.3f}\".format(name, avg))\n"
      ],
      "execution_count": null,
      "outputs": [
        {
          "output_type": "stream",
          "text": [
            "Movie title: An American Pickle (2020) - Rotten Tomatoes\n",
            "averageScore        : 7.966\n",
            "avgScore            : 6.033\n",
            "episodeAvgScore     : 97.650\n",
            "episodesWithScore   : 10.000\n",
            "percentScore        : 88.429\n"
          ],
          "name": "stdout"
        }
      ]
    },
    {
      "cell_type": "markdown",
      "metadata": {
        "id": "J_viga1I8Uw9",
        "colab_type": "text"
      },
      "source": [
        "Get the first 10 comments on a particular book, compute the average score and frequency"
      ]
    },
    {
      "cell_type": "code",
      "metadata": {
        "id": "vggGXAsa8jh-",
        "colab_type": "code",
        "colab": {
          "base_uri": "https://localhost:8080/",
          "height": 552
        },
        "outputId": "a30d844f-5048-4d83-f03f-448e18db0710"
      },
      "source": [
        "headers = {'User-Agent': 'Mozilla/5.0 (Windows NT 10.0; Win64; x64) AppleWebKit/537.36 (KHTML, like Gecko) Chrome/84.0.4147.105 Safari/537.36'}\n",
        "\n",
        "r = requests.get('https://book.douban.com/subject/10594787/comments', headers=headers)\n",
        "\n",
        "soup = BeautifulSoup(r.text, 'lxml')\n",
        "title = soup.find_all('title')[0].string\n",
        "pattern = soup.find_all('span','short')\n",
        "\n",
        "print(f'Book title: {title}\\n')\n",
        "\n",
        "for item in pattern:\n",
        "    print(item.string)\n",
        "regex_p = re.compile('<span class=\"user-stars allstar(.*?) rating\" title=\"(.*?)\">')\n",
        "result = re.findall(regex_p, r.text)\n",
        "\n",
        "star = 0\n",
        "comment = dict()\n",
        "rating = []\n",
        "for i in range(10):\n",
        " star += (int(result[i][0]))\n",
        " rating.append(result[i][1])\n",
        "\n",
        "print('Average score: {:.2f}'.format(star/10))\n",
        "\n",
        "rating = set(rating)\n",
        "for item in rating:\n",
        "  comment[item] = 0\n",
        "for i in range(10):\n",
        "  comment[result[i][1]] +=1 \n",
        "\n",
        "print()\n",
        "\n",
        "for k, v in comment.items():\n",
        "  print(f'{k}:{v}', end=' ')"
      ],
      "execution_count": null,
      "outputs": [
        {
          "output_type": "stream",
          "text": [
            "Book title: \n",
            "    霍乱时期的爱情 短评\n",
            "\n",
            "\n",
            "想写本小说：男主是饿了么的外卖员，某次上门送餐，女主惊鸿一蹩给半个世纪后的爱情纠葛埋下伏笔。男主千方百计要到女主的 QQ 号，两人聊得火热，在网上结下山盟海誓。聊了两年，某次偶然见面让这段网恋见光死。后来，女主在一次 O2O 的上门会诊时被高富帅医生盯上，这次误诊让他们发展为夫妻。男主伤心欲绝、萎靡不振过后，下定狠心要赢得她，要赢得匹配上她的名誉和财富，要等着情敌的死去，哪怕等到世界末日。他下载了 KEEP 乐动力悦跑圈一堆健身 APP，锻炼身体。他在微信陌陌上寻花问柳，但为她保持着内心的贞洁。他加入滴滴从事运输行业，从程序员做到董事长。五十一年后，女主的爱人去世了，男主再次向女主重申对她永恒的忠诚和不渝的爱情……五十三年后，他 76，她 72，男主备胎转正。书名叫《互联网时期的爱情》\n",
            "读过最好的小说之一，最后在船上那段更是看过的最美的爱情。马尔克斯也告诉我们：屌丝能够战胜富二代唯一的方法，就是要比他活得更长。来，让我们一起锻炼身体吧。\n",
            "不夸张地讲，这本书包含了爱情的全部答案。阅读本书的好处是重新相信爱情；坏处是意识到即便相信也无济于事。\n",
            "终于看完了，但我越发糊涂，53年7个月零11天的等待，到底是不是爱情。如果是，她在私定终身的那一刻为什么逃走了？如果不是，那些往来的信件和矛盾的焦虑又算什么？\n",
            "在她遇难守寡时他的出现无疑给了她生活下去的希望，可那应该叫做感激。而他50几年的寻花问柳背后，所保持的内心的贞洁，是否是种不甘心的征服欲？\n",
            "不能问作者了，他死了= =\n",
            "我猜这本四百页的书并非是为了歌颂爱情，而是为了呈现人生，爱情是杂乱而繁茂的生命之树上温情脉脉的一缕夕阳。\n",
            "书中描写的爱情，是那么自相矛盾却又合情合理。那么悲伤却又充满着狂喜。那么苍老无助，却又在某个瞬间，永远年轻。\n",
            "竟然舍不得读完。但也不觉得写的是所谓的“爱情”，哪怕结尾多么大无畏和浪漫。写的其实是“孤独”，无论那女人多么“高傲”，那男人多么“卑微”，她在世俗的婚姻中以为拥有了爱情，他在浪荡滥交的生活中以为逃避了空虚，当他们白发苍苍时相拥在一起，才发现他们这一辈子恒久的寂寞的灵魂\n",
            "不同年龄段读这本书都会有不同的感触 至少现在让我恶心的是 一个七十多岁的老头诱骗一个未满14岁的少女做爱 \n",
            "不知道是翻译的好 还是本身马尔克斯文笔太美 或是拉丁文的奥妙？反正之前读多了美国小说例如海明威那种简明直接型的话痨为主的描述又或者日本小说例如村上那种淡淡的文笔以后 马尔克斯简直让人燃烧 要华丽可华丽 又不多余造作 除了人名容易弄混 全书读下来都是享受 内容更没得说 超越时间的爱情 离死亡越近越浓烈\n",
            "强忍着对男主的厌恶看完了。“这个对爱情如饥似渴又极其悭吝的人，这个从不付出、又想得到一切的人，这个不允许任何人在他心里留下足迹的人。”\n",
            "这才是拉美文学最大的魔幻现实：通篇写爱情，却不见一丝情感。\n",
            "用罗兰·巴特的话来解释《霍乱时期的爱情》应该是最合适不过了：“我一生中遇到过成千上万个身体，并对其中数百个产生欲望，但我真正爱上的只有一个。”阿里萨在离开初恋情人后纵情声色，沉湎肉欲，620次风流韵事写满了整整25大本，在精神层面上，他依然是一位永远忠贞于初恋情人的纯粹处男。\n",
            "爱情，首先是一种本能，要么生下来就会，要么永远都不会, 以及人心的房间比婊子旅馆里的客房还多\n",
            "对于爱情，我们都太年轻了，而且我们永远太年轻，不知道人活在这个世界上，爱情有多少面目。\n",
            "单独第一章非常完美。越往后越泄力。到最后一章已经很不耐烦。爱所有她和医生的部分，但不觉得她和惨绿游艇大亨爱过彼此。只是把年轻的时光一路带在身上留着年老时用吧。《霍乱时期的变老》。看到马尔克斯访谈说，不是在写老年人的爱情，写的只是一个人的一生情史，一个人在不同的年龄段不同的爱情观。非常同意。时常怀疑所谓的“爱情”这种东西。大概终其一生，我们只是抱持着自己形态千变万化的对“爱情”的想象（或者叫理解），把它持续不间断地投射到其他人身上而已。\n",
            "我曾经以为《挪威的森林》是我喜欢的小说，直到我遇到《不能承受的生命之轻》；我一直以为《不能承受的生命之轻》是我最喜欢的小说，直到我遇到《霍乱时期的爱情》。\n",
            "他们之间的感觉并不像新婚燕尔的夫妇，更不像相聚恨晚的情人。他们仿佛一举越过了漫长艰辛的夫妻生活，义无反顾地直达爱情的核心。他们像一对经历了生活磨炼的老夫老妻，在宁静中超越了激情的陷阱，超越了幻想的无情嘲弄和醒悟的海市蜃楼:超越了爱情。\n",
            "好看，但是看到终章突然对爱情更疑惑了。\n",
            "费尔明娜像林徽因，阿里萨像金岳霖，医生像梁思成。虽然这样比喻不太好，但是同为新旧变革时期的背景很有共同点。书中的人物一个都不喜欢，但也都不讨厌，因为本来讨厌的个性却也都是无法选择的原因所造成，或许这才是真正对人对物该有的态度。爱情只是一个影子，这既是放弃的原因，也是苦苦守候五十三年十一月零七天（全是孤独的质数）的原因。\n",
            "相比《百年孤独》这本书更通俗，看起来也更顺畅，虽然少了那种魔幻的奇异色彩，但多了细腻和真实，同时对爱情、婚姻、性、人生、衰老等主题都有非常深刻而独特的见解。里面的很多句子类似哲学语录，非常值得多读几遍。\n",
            "Average score: 46.00\n",
            "\n",
            "力荐:7 还行:1 推荐:2 "
          ],
          "name": "stdout"
        }
      ]
    },
    {
      "cell_type": "code",
      "metadata": {
        "id": "IfPRPSrRBpaV",
        "colab_type": "code",
        "colab": {
          "base_uri": "https://localhost:8080/",
          "height": 464
        },
        "outputId": "299cc834-9ecc-4638-c59d-6505b8215cc9"
      },
      "source": [
        "for item in pattern:\n",
        "    print(item.string)\n",
        "regex_p = re.compile('<span class=\"user-stars allstar(.*?) rating\" title=\"(.*?)\">')\n",
        "result = re.findall(regex_p, r.text)\n",
        "\n",
        "star = 0\n",
        "comment = dict()\n",
        "rating = []\n",
        "for i in range(10):\n",
        " star += (int(result[i][0]))\n",
        " rating.append(result[i][1])\n",
        "\n",
        "print('Average score: {:.2f}'.format(star/10))\n",
        "\n",
        "rating = set(rating)\n",
        "for item in rating:\n",
        "  comment[item] = 0\n",
        "for i in range(10):\n",
        "  comment[result[i][1]] +=1 \n",
        "\n",
        "for k, v in comment.items():\n",
        "  print(f'{k}:{v}', end=' ')"
      ],
      "execution_count": null,
      "outputs": [
        {
          "output_type": "stream",
          "text": [
            "想写本小说：男主是饿了么的外卖员，某次上门送餐，女主惊鸿一蹩给半个世纪后的爱情纠葛埋下伏笔。男主千方百计要到女主的 QQ 号，两人聊得火热，在网上结下山盟海誓。聊了两年，某次偶然见面让这段网恋见光死。后来，女主在一次 O2O 的上门会诊时被高富帅医生盯上，这次误诊让他们发展为夫妻。男主伤心欲绝、萎靡不振过后，下定狠心要赢得她，要赢得匹配上她的名誉和财富，要等着情敌的死去，哪怕等到世界末日。他下载了 KEEP 乐动力悦跑圈一堆健身 APP，锻炼身体。他在微信陌陌上寻花问柳，但为她保持着内心的贞洁。他加入滴滴从事运输行业，从程序员做到董事长。五十一年后，女主的爱人去世了，男主再次向女主重申对她永恒的忠诚和不渝的爱情……五十三年后，他 76，她 72，男主备胎转正。书名叫《互联网时期的爱情》\n",
            "读过最好的小说之一，最后在船上那段更是看过的最美的爱情。马尔克斯也告诉我们：屌丝能够战胜富二代唯一的方法，就是要比他活得更长。来，让我们一起锻炼身体吧。\n",
            "不夸张地讲，这本书包含了爱情的全部答案。阅读本书的好处是重新相信爱情；坏处是意识到即便相信也无济于事。\n",
            "终于看完了，但我越发糊涂，53年7个月零11天的等待，到底是不是爱情。如果是，她在私定终身的那一刻为什么逃走了？如果不是，那些往来的信件和矛盾的焦虑又算什么？\n",
            "在她遇难守寡时他的出现无疑给了她生活下去的希望，可那应该叫做感激。而他50几年的寻花问柳背后，所保持的内心的贞洁，是否是种不甘心的征服欲？\n",
            "不能问作者了，他死了= =\n",
            "我猜这本四百页的书并非是为了歌颂爱情，而是为了呈现人生，爱情是杂乱而繁茂的生命之树上温情脉脉的一缕夕阳。\n",
            "书中描写的爱情，是那么自相矛盾却又合情合理。那么悲伤却又充满着狂喜。那么苍老无助，却又在某个瞬间，永远年轻。\n",
            "竟然舍不得读完。但也不觉得写的是所谓的“爱情”，哪怕结尾多么大无畏和浪漫。写的其实是“孤独”，无论那女人多么“高傲”，那男人多么“卑微”，她在世俗的婚姻中以为拥有了爱情，他在浪荡滥交的生活中以为逃避了空虚，当他们白发苍苍时相拥在一起，才发现他们这一辈子恒久的寂寞的灵魂\n",
            "不同年龄段读这本书都会有不同的感触 至少现在让我恶心的是 一个七十多岁的老头诱骗一个未满14岁的少女做爱 \n",
            "不知道是翻译的好 还是本身马尔克斯文笔太美 或是拉丁文的奥妙？反正之前读多了美国小说例如海明威那种简明直接型的话痨为主的描述又或者日本小说例如村上那种淡淡的文笔以后 马尔克斯简直让人燃烧 要华丽可华丽 又不多余造作 除了人名容易弄混 全书读下来都是享受 内容更没得说 超越时间的爱情 离死亡越近越浓烈\n",
            "强忍着对男主的厌恶看完了。“这个对爱情如饥似渴又极其悭吝的人，这个从不付出、又想得到一切的人，这个不允许任何人在他心里留下足迹的人。”\n",
            "这才是拉美文学最大的魔幻现实：通篇写爱情，却不见一丝情感。\n",
            "用罗兰·巴特的话来解释《霍乱时期的爱情》应该是最合适不过了：“我一生中遇到过成千上万个身体，并对其中数百个产生欲望，但我真正爱上的只有一个。”阿里萨在离开初恋情人后纵情声色，沉湎肉欲，620次风流韵事写满了整整25大本，在精神层面上，他依然是一位永远忠贞于初恋情人的纯粹处男。\n",
            "爱情，首先是一种本能，要么生下来就会，要么永远都不会, 以及人心的房间比婊子旅馆里的客房还多\n",
            "对于爱情，我们都太年轻了，而且我们永远太年轻，不知道人活在这个世界上，爱情有多少面目。\n",
            "单独第一章非常完美。越往后越泄力。到最后一章已经很不耐烦。爱所有她和医生的部分，但不觉得她和惨绿游艇大亨爱过彼此。只是把年轻的时光一路带在身上留着年老时用吧。《霍乱时期的变老》。看到马尔克斯访谈说，不是在写老年人的爱情，写的只是一个人的一生情史，一个人在不同的年龄段不同的爱情观。非常同意。时常怀疑所谓的“爱情”这种东西。大概终其一生，我们只是抱持着自己形态千变万化的对“爱情”的想象（或者叫理解），把它持续不间断地投射到其他人身上而已。\n",
            "我曾经以为《挪威的森林》是我喜欢的小说，直到我遇到《不能承受的生命之轻》；我一直以为《不能承受的生命之轻》是我最喜欢的小说，直到我遇到《霍乱时期的爱情》。\n",
            "他们之间的感觉并不像新婚燕尔的夫妇，更不像相聚恨晚的情人。他们仿佛一举越过了漫长艰辛的夫妻生活，义无反顾地直达爱情的核心。他们像一对经历了生活磨炼的老夫老妻，在宁静中超越了激情的陷阱，超越了幻想的无情嘲弄和醒悟的海市蜃楼:超越了爱情。\n",
            "好看，但是看到终章突然对爱情更疑惑了。\n",
            "费尔明娜像林徽因，阿里萨像金岳霖，医生像梁思成。虽然这样比喻不太好，但是同为新旧变革时期的背景很有共同点。书中的人物一个都不喜欢，但也都不讨厌，因为本来讨厌的个性却也都是无法选择的原因所造成，或许这才是真正对人对物该有的态度。爱情只是一个影子，这既是放弃的原因，也是苦苦守候五十三年十一月零七天（全是孤独的质数）的原因。\n",
            "相比《百年孤独》这本书更通俗，看起来也更顺畅，虽然少了那种魔幻的奇异色彩，但多了细腻和真实，同时对爱情、婚姻、性、人生、衰老等主题都有非常深刻而独特的见解。里面的很多句子类似哲学语录，非常值得多读几遍。\n",
            "Average score: 46.00\n",
            "力荐:7 还行:1 推荐:2 "
          ],
          "name": "stdout"
        }
      ]
    },
    {
      "cell_type": "markdown",
      "metadata": {
        "id": "ndWQkFNBwFOV",
        "colab_type": "text"
      },
      "source": [
        "get and save an image"
      ]
    },
    {
      "cell_type": "code",
      "metadata": {
        "id": "gkujzaUkt9bt",
        "colab_type": "code",
        "colab": {}
      },
      "source": [
        "r = requests.get('https://github.githubassets.com/images/modules/logos_page/Octocat.png')\n",
        "with open('logo.png', 'wb') as fp:\n",
        "    fp.write(r.content)"
      ],
      "execution_count": null,
      "outputs": []
    },
    {
      "cell_type": "code",
      "metadata": {
        "id": "4YmY7RUvupSg",
        "colab_type": "code",
        "colab": {
          "base_uri": "https://localhost:8080/",
          "height": 287
        },
        "outputId": "80dbc024-9336-4143-8285-a66cd8ea5875"
      },
      "source": [
        "import matplotlib.pyplot as plt\n",
        "from cv2 import imread, imshow\n",
        "\n",
        "img = imread('logo.png')\n",
        "plt.imshow(img)"
      ],
      "execution_count": null,
      "outputs": [
        {
          "output_type": "execute_result",
          "data": {
            "text/plain": [
              "<matplotlib.image.AxesImage at 0x7ff31f509e10>"
            ]
          },
          "metadata": {
            "tags": []
          },
          "execution_count": 304
        },
        {
          "output_type": "display_data",
          "data": {
            "image/png": "[encoded data removed]",
            "text/plain": [
              "<Figure size 432x288 with 1 Axes>"
            ]
          },
          "metadata": {
            "tags": [],
            "needs_background": "light"
          }
        }
      ]
    }
  ]
}